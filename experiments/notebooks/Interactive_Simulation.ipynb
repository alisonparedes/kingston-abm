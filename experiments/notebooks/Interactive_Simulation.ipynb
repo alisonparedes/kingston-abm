{
 "cells": [
  {
   "cell_type": "markdown",
   "id": "05718ac0",
   "metadata": {},
   "source": [
    "# Interactive Simulation\n",
    "This Jupyter Notebook serves as a configuration system for the Interactive Covi19Simulation system. Place parameter file where the simulator expects it to be. I.E, `../configs`\n"
   ]
  },
  {
   "cell_type": "markdown",
   "id": "ec802dd1",
   "metadata": {},
   "source": [
    "## config"
   ]
  },
  {
   "cell_type": "code",
   "execution_count": 1,
   "id": "a897ba74",
   "metadata": {},
   "outputs": [
    {
     "name": "stdout",
     "output_type": "stream",
     "text": [
      "/home/ecal/projects/mulab-devops/kingston-abm/experiments/notebooks\r\n"
     ]
    }
   ],
   "source": [
    "!pwd"
   ]
  },
  {
   "cell_type": "code",
   "execution_count": 2,
   "id": "8004df60",
   "metadata": {
    "scrolled": true
   },
   "outputs": [
    {
     "name": "stdout",
     "output_type": "stream",
     "text": [
      "kingston_0xdfc056a4fdb804e60e964b2cc5aae6ea.yml\r\n"
     ]
    }
   ],
   "source": [
    "# confirm that the config file exists where it is expected to be.\n",
    "!ls ../configs"
   ]
  },
  {
   "cell_type": "code",
   "execution_count": 3,
   "id": "464b2273",
   "metadata": {},
   "outputs": [
    {
     "name": "stdout",
     "output_type": "stream",
     "text": [
      "kingston0xdfc056a4fdb804e60e964b2cc5aae6ea.yaml  montreal.yaml\r\n"
     ]
    }
   ],
   "source": [
    "# copy the above configuration into our simulator (change the config name)\n",
    "!cp ../configs/kingston_0xdfc056a4fdb804e60e964b2cc5aae6ea.yml ../../../COVI-AgentSim/src/covid19sim/configs/simulation/region/kingston0xdfc056a4fdb804e60e964b2cc5aae6ea.yaml\n",
    "!ls ../../../COVI-AgentSim/src/covid19sim/configs/simulation/region"
   ]
  },
  {
   "cell_type": "markdown",
   "id": "e2f3c285",
   "metadata": {},
   "source": [
    "Set track to 'all' to write individual-level data to a file, for all individuals once per simulation-hour"
   ]
  },
  {
   "cell_type": "code",
   "execution_count": 4,
   "id": "2219e95e",
   "metadata": {},
   "outputs": [
    {
     "data": {
      "text/plain": [
       "('region=kingston0xdfc056a4fdb804e60e964b2cc5aae6ea n_people=1000 simulation_days=30 init_fraction_sick=0.002 N_BEHAVIOR_LEVELS=2 intervention=no_intervention tune=True track=all GLOBAL_MOBILITY_SCALING_FACTOR=0.85 APP_UPTAKE=-1 USE_INFERENCE_SERVER=False INTERVENTION_DAY=-1 city_data=../../city_data.csv',\n",
       " 1984,\n",
       " '0xf28a2cf4b5af607d765549774d2916f9')"
      ]
     },
     "execution_count": 4,
     "metadata": {},
     "output_type": "execute_result"
    }
   ],
   "source": [
    "# define configs\n",
    "args_dict = {\n",
    "    'region': 'kingston0xdfc056a4fdb804e60e964b2cc5aae6ea',\n",
    "    'n_people': 1000,\n",
    "    'simulation_days': 30,\n",
    "    'init_fraction_sick': 0.002,\n",
    "    'N_BEHAVIOR_LEVELS': 2,\n",
    "    'intervention': 'no_intervention',\n",
    "    'tune': True,\n",
    "    'track': 'light',\n",
    "    'GLOBAL_MOBILITY_SCALING_FACTOR': 0.85,\n",
    "    'APP_UPTAKE': -1,\n",
    "    'USE_INFERENCE_SERVER': False,\n",
    "    'INTERVENTION_DAY': -1,\n",
    "    'track': 'all',\n",
    "    'city_data': '../../city_data.csv'\n",
    "}\n",
    "\n",
    "args_str = ' '.join([f'{k}={v}' for k, v in args_dict.items()])\n",
    "seed = 1984\n",
    "\n",
    "import random\n",
    "run_id = hex(random.getrandbits(128))\n",
    "\n",
    "args_str, seed, run_id"
   ]
  },
  {
   "cell_type": "code",
   "execution_count": 5,
   "id": "991b470c",
   "metadata": {},
   "outputs": [
    {
     "data": {
      "text/plain": [
       "'python ../../../COVI-AgentSim/src/InterSim/main.py seed=1984 outdir=../../../src/experiments/data/0xf28a2cf4b5af607d765549774d2916f9 region=kingston0xdfc056a4fdb804e60e964b2cc5aae6ea n_people=1000 simulation_days=30 init_fraction_sick=0.002 N_BEHAVIOR_LEVELS=2 intervention=no_intervention tune=True track=all GLOBAL_MOBILITY_SCALING_FACTOR=0.85 APP_UPTAKE=-1 USE_INFERENCE_SERVER=False INTERVENTION_DAY=-1 city_data=../../city_data.csv\\n'"
      ]
     },
     "execution_count": 5,
     "metadata": {},
     "output_type": "execute_result"
    }
   ],
   "source": [
    "# invocation command\n",
    "command_str = f'python ../../../COVI-AgentSim/src/InterSim/main.py seed={seed} outdir=data/{run_id} {args_str}\\n'\n",
    "\n",
    "command_str"
   ]
  },
  {
   "cell_type": "markdown",
   "id": "c1664728",
   "metadata": {},
   "source": [
    "## Run the simulation server\n",
    "run the following cell to start the server."
   ]
  },
  {
   "cell_type": "code",
   "execution_count": null,
   "id": "9e31a651",
   "metadata": {},
   "outputs": [],
   "source": [
    "import subprocess\n",
    "subprocess.run(command_str, shell=True, capture_output=True)"
   ]
  },
  {
   "cell_type": "markdown",
   "id": "ec7facb6",
   "metadata": {},
   "source": [
    "Give the above a couple seconds and then go to \n",
    "http://localhost:8501"
   ]
  }
 ],
 "metadata": {
  "kernelspec": {
   "display_name": "covisim",
   "language": "python",
   "name": "covisim"
  },
  "language_info": {
   "codemirror_mode": {
    "name": "ipython",
    "version": 3
   },
   "file_extension": ".py",
   "mimetype": "text/x-python",
   "name": "python",
   "nbconvert_exporter": "python",
   "pygments_lexer": "ipython3",
   "version": "3.8.13"
  }
 },
 "nbformat": 4,
 "nbformat_minor": 5
}

{
 "cells": [
  {
   "cell_type": "markdown",
   "metadata": {},
   "source": [
    "# Interactive Simulation\n",
    "This Jupyter Notebook serves as a configuration system for the Interactive Covi19Simulation system. Place parameter file where the simulator expects it to be. I.E, `../configs`\n"
   ]
  },
  {
   "cell_type": "markdown",
   "metadata": {},
   "source": [
    "## config"
   ]
  },
  {
   "cell_type": "code",
   "execution_count": 1,
   "metadata": {
    "scrolled": true
   },
   "outputs": [
    {
     "name": "stdout",
     "output_type": "stream",
     "text": [
      "kingston_0xdfc056a4fdb804e60e964b2cc5aae6ea.yml\r\n"
     ]
    }
   ],
   "source": [
    "# confirm that the config file exists where it is expected to be.\n",
    "!ls ../configs"
   ]
  },
  {
   "cell_type": "code",
   "execution_count": 2,
   "metadata": {},
   "outputs": [
    {
     "name": "stdout",
     "output_type": "stream",
     "text": [
      "kingston0xdfc056a4fdb804e60e964b2cc5aae6ea.yaml  montreal.yaml\r\n"
     ]
    }
   ],
   "source": [
    "# copy the above configuration into our simulator (change the config name)\n",
    "!cp ../configs/kingston_0xdfc056a4fdb804e60e964b2cc5aae6ea.yml ~/COVI-AgentSim/src/covid19sim/configs/simulation/region/kingston0xdfc056a4fdb804e60e964b2cc5aae6ea.yaml\n",
    "!ls ~/COVI-AgentSim/src/covid19sim/configs/simulation/region"
   ]
  },
  {
   "cell_type": "markdown",
   "metadata": {},
   "source": [
    "Set track to 'all' to write individual-level data to a file, for all individuals once per simulation-hour"
   ]
  },
  {
   "cell_type": "code",
   "execution_count": 3,
   "metadata": {},
   "outputs": [
    {
     "data": {
      "text/plain": [
       "('region=kingston0xdfc056a4fdb804e60e964b2cc5aae6ea n_people=3000 simulation_days=60 init_fraction_sick=0.002 N_BEHAVIOR_LEVELS=2 intervention=no_intervention tune=True track=all GLOBAL_MOBILITY_SCALING_FACTOR=0.85 APP_UPTAKE=-1 USE_INFERENCE_SERVER=False INTERVENTION_DAY=-1',\n",
       " 1984,\n",
       " '0x355e3e2c2991f3caa68dcc2dd7c57c52')"
      ]
     },
     "execution_count": 3,
     "metadata": {},
     "output_type": "execute_result"
    }
   ],
   "source": [
    "# define configs\n",
    "args_dict = {'region': 'kingston0xdfc056a4fdb804e60e964b2cc5aae6ea',\n",
    "        'n_people': 1000,\n",
    "        'simulation_days': 30,\n",
    "        'init_fraction_sick': 0.002,\n",
    "        'N_BEHAVIOR_LEVELS': 2,\n",
    "        'intervention': 'no_intervention',\n",
    "        'tune': True,\n",
    "        'track': 'light',\n",
    "        'GLOBAL_MOBILITY_SCALING_FACTOR': 0.85,\n",
    "        'APP_UPTAKE': -1,\n",
    "        'USE_INFERENCE_SERVER': False,\n",
    "        'INTERVENTION_DAY': -1,\n",
    "        'track': 'all'}\n",
    "\n",
    "args_str = ' '.join([f'{k}={v}' for k, v in args_dict.items()])\n",
    "seed = 1984\n",
    "\n",
    "import random\n",
    "run_id = hex(random.getrandbits(128))\n",
    "\n",
    "args_str, seed, run_id"
   ]
  },
  {
   "cell_type": "code",
   "execution_count": 4,
   "metadata": {},
   "outputs": [
    {
     "data": {
      "text/plain": [
       "'/opt/conda/bin/conda run -n covisim python ~/COVI-AgentSim/src/InterSim/main.py seed=1984 outdir=/src/experiments/data/0x355e3e2c2991f3caa68dcc2dd7c57c52 region=kingston0xdfc056a4fdb804e60e964b2cc5aae6ea n_people=3000 simulation_days=60 init_fraction_sick=0.002 N_BEHAVIOR_LEVELS=2 intervention=no_intervention tune=True track=all GLOBAL_MOBILITY_SCALING_FACTOR=0.85 APP_UPTAKE=-1 USE_INFERENCE_SERVER=False INTERVENTION_DAY=-1\\n'"
      ]
     },
     "execution_count": 4,
     "metadata": {},
     "output_type": "execute_result"
    }
   ],
   "source": [
    "# invocation command\n",
    "command_str = f'/opt/conda/bin/conda run -n covisim python ~/COVI-AgentSim/src/InterSim/main.py seed={seed} outdir=/src/experiments/data/{run_id} {args_str}\\n'\n",
    "\n",
    "command_str"
   ]
  },
  {
   "cell_type": "markdown",
   "metadata": {},
   "source": [
    "## Run the simulation server\n",
    "run the following cell to start the server."
   ]
  },
  {
   "cell_type": "code",
   "execution_count": null,
   "metadata": {},
   "outputs": [],
   "source": [
    "import subprocess\n",
    "subprocess.run(command_str, shell=True, capture_output=True)"
   ]
  },
  {
   "cell_type": "markdown",
   "metadata": {},
   "source": [
    "Give the above a couple seconds and then go to \n",
    "http://localhost:8501"
   ]
  }
 ],
 "metadata": {
  "kernelspec": {
   "display_name": "Python 3",
   "language": "python",
   "name": "python3"
  },
  "language_info": {
   "codemirror_mode": {
    "name": "ipython",
    "version": 3
   },
   "file_extension": ".py",
   "mimetype": "text/x-python",
   "name": "python",
   "nbconvert_exporter": "python",
   "pygments_lexer": "ipython3",
   "version": "3.8.13"
  }
 },
 "nbformat": 4,
 "nbformat_minor": 5
}
